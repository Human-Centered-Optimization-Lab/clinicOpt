{
 "cells": [
  {
   "cell_type": "markdown",
   "id": "7c558aba",
   "metadata": {},
   "source": [
    "# Location selection demo"
   ]
  },
  {
   "cell_type": "code",
   "execution_count": 2,
   "id": "0412dc20",
   "metadata": {},
   "outputs": [],
   "source": [
    "%matplotlib qt\n",
    "\n",
    "import numpy as np\n",
    "import random\n",
    "import matplotlib.pyplot as plt\n",
    "\n",
    "plt.ion()\n",
    "\n",
    "n = 20\n"
   ]
  },
  {
   "cell_type": "code",
   "execution_count": 3,
   "id": "8af741d4",
   "metadata": {},
   "outputs": [],
   "source": [
    "\n",
    "def generate_cities(n, seed):\n",
    "    random.seed(seed)\n",
    "    # Generate n cities with random coordinates\n",
    "    cities = [(random.uniform(0, 100), random.uniform(0, 100)) for _ in range(n)]\n",
    "    return cities\n",
    "\n",
    "def calculate_distance(city1, city2):\n",
    "    # Calculate Euclidean distance between two cities\n",
    "    return np.sqrt((city1[0] - city2[0]) ** 2 + (city1[1] - city2[1]) ** 2)\n",
    "\n",
    "def create_popuations(n):\n",
    "    populations = np.array([(random.triangular(-1, 1)**2)*1000 for _ in range(n)]).round() * 100\n",
    "    return populations\n",
    "\n",
    "\n",
    "def create_adjacency_matrix(cities):\n",
    "    n = len(cities)\n",
    "    adjacency_matrix = np.zeros((n, n))\n",
    "\n",
    "    for i in range(n):\n",
    "        for j in range(n):\n",
    "            if i != j:\n",
    "                adjacency_matrix[i][j] = calculate_distance(cities[i], cities[j])\n",
    "    \n",
    "    return adjacency_matrix\n",
    "\n",
    "def plot_cities(cities, populations):\n",
    "    # Plot the cities on a Cartesian coordinate system\n",
    "    x_coords, y_coords = zip(*cities)\n",
    "    \n",
    "    plt.figure(figsize=(8, 8))\n",
    "    plt.scatter(x_coords, y_coords, color='blue', s=populations)\n",
    "    \n",
    "    for idx, city in enumerate(cities):\n",
    "        plt.annotate(f'City {idx}', (city[0], city[1]), textcoords=\"offset points\", xytext=(0,10), ha='center')\n",
    "    \n",
    "    plt.title('Cities on Cartesian Coordinate System')\n",
    "    plt.xlabel('X Coordinate')\n",
    "    plt.ylabel('Y Coordinate')\n",
    "    plt.xlim(0, 100)\n",
    "    plt.ylim(0, 100)\n",
    "    plt.grid()\n",
    "    plt.show()\n"
   ]
  },
  {
   "cell_type": "code",
   "execution_count": 4,
   "id": "678bec3f",
   "metadata": {},
   "outputs": [
    {
     "name": "stdout",
     "output_type": "stream",
     "text": [
      "Cities (x, y coordinates):\n",
      "City 0: (32.46821836623819, 65.6367050713251)\n",
      "City 1: (41.46946457143136, 11.074940883410756)\n",
      "City 2: (64.68706866275423, 18.29866757939975)\n",
      "City 3: (56.495641690255404, 59.94933047990521)\n",
      "City 4: (87.03017457027464, 60.68910745781123)\n",
      "City 5: (68.80106902642386, 66.61044527267815)\n",
      "City 6: (92.42222879273424, 9.364236019688455)\n",
      "City 7: (87.79829165933444, 36.309928388930615)\n",
      "City 8: (44.10165173236453, 57.51853082264592)\n",
      "City 9: (14.490232094387734, 72.0503438723459)\n",
      "City 10: (29.143877429431985, 36.40846376858325)\n",
      "City 11: (56.381271888862926, 0.432253657464321)\n",
      "City 12: (75.8037311880652, 26.766295375807147)\n",
      "City 13: (88.87289700856203, 78.68439171798221)\n",
      "City 14: (64.82474760435812, 37.59284979203431)\n",
      "City 15: (25.888051470266383, 17.664498884072366)\n",
      "City 16: (19.3495636968418, 31.504871048729)\n",
      "City 17: (29.764644570646837, 67.217846188787)\n",
      "City 18: (74.84165299950143, 47.80891175884086)\n",
      "City 19: (38.06185410281583, 96.50075129706605)\n"
     ]
    },
    {
     "data": {
      "text/plain": [
       "array([29600., 40900., 54400.,     0.,  4100.,  2400.,   100.,     0.,\n",
       "        6200.,   400.,  2600.,   900., 13800.,  8200., 17100.,   400.,\n",
       "        1600.,   900.,  3400.,   500.])"
      ]
     },
     "metadata": {},
     "output_type": "display_data"
    }
   ],
   "source": [
    "\n",
    "cities = generate_cities(n, 20250424)\n",
    "adjacency_matrix = create_adjacency_matrix(cities)\n",
    "\n",
    "populations =  create_popuations(n)\n",
    "\n",
    "print(\"Cities (x, y coordinates):\")\n",
    "for idx, city in enumerate(cities):\n",
    "    print(f\"City {idx}: {city}\")\n",
    "\n",
    "display(populations)\n",
    "\n",
    "marker_downscale_factor = 100\n",
    "\n",
    "plot_cities(cities, populations/marker_downscale_factor)\n"
   ]
  },
  {
   "cell_type": "markdown",
   "id": "d0b0f580",
   "metadata": {},
   "source": [
    "## Representation of problem"
   ]
  },
  {
   "cell_type": "code",
   "execution_count": 5,
   "id": "8f33c3a1",
   "metadata": {},
   "outputs": [
    {
     "data": {
      "text/plain": [
       "array([[ True,  True,  True,  True,  True,  True, False,  True,  True,\n",
       "        False,  True,  True,  True,  True,  True, False,  True,  True,\n",
       "         True, False],\n",
       "       [ True,  True,  True,  True,  True,  True, False,  True,  True,\n",
       "         True,  True,  True,  True,  True,  True,  True,  True,  True,\n",
       "         True,  True],\n",
       "       [ True,  True,  True,  True,  True,  True, False,  True,  True,\n",
       "        False,  True, False,  True,  True,  True, False,  True,  True,\n",
       "         True, False],\n",
       "       [ True,  True,  True,  True,  True,  True, False,  True,  True,\n",
       "        False,  True,  True,  True,  True,  True, False,  True,  True,\n",
       "         True,  True],\n",
       "       [ True,  True,  True,  True,  True,  True, False,  True,  True,\n",
       "        False,  True,  True,  True,  True,  True,  True,  True,  True,\n",
       "         True,  True],\n",
       "       [ True,  True,  True,  True,  True,  True,  True,  True,  True,\n",
       "         True,  True,  True,  True,  True,  True,  True,  True,  True,\n",
       "         True,  True],\n",
       "       [ True,  True,  True,  True,  True,  True, False,  True,  True,\n",
       "        False,  True, False,  True,  True,  True, False,  True, False,\n",
       "         True, False]])"
      ]
     },
     "metadata": {},
     "output_type": "display_data"
    },
    {
     "data": {
      "text/plain": [
       "array([[-1.861e+05, -1.600e+01,  2.000e+00],\n",
       "       [-1.874e+05, -1.900e+01,  5.000e+00],\n",
       "       [-1.852e+05, -1.500e+01,  1.000e+00],\n",
       "       [-1.866e+05, -1.700e+01,  3.000e+00],\n",
       "       [-1.870e+05, -1.800e+01,  4.000e+00],\n",
       "       [-1.875e+05, -2.000e+01,  6.000e+00],\n",
       "       [-1.843e+05, -1.400e+01,  0.000e+00]])"
      ]
     },
     "metadata": {},
     "output_type": "display_data"
    }
   ],
   "source": [
    "from pymoo.core.problem import Problem\n",
    "from pymoo.util.ref_dirs import get_reference_directions\n",
    "from pymoo.optimize import minimize\n",
    "from pymoo.algorithms.moo.nsga3 import NSGA3\n",
    "\n",
    "class clinicOptimization(Problem):\n",
    "\n",
    "    def __init__(self, cities, max_city, city_pops, min_atp, home):\n",
    "        city_n = len(cities)\n",
    "        super().__init__(n_var=city_n, n_obj=3, n_ieq_constr=1, xl=0, xu=1, vtype=bool)\n",
    "        self.max_city = max_city\n",
    "        self.city_pops = city_pops\n",
    "        self.min_atp = min_atp\n",
    "        self.home = home\n",
    "\n",
    "\n",
    "    def _evaluate(self, x, out, *args, **kwargs):\n",
    "        x_bool = x < 0.5\n",
    "        np.multiply(x_bool, self.city_pops)\n",
    "\n",
    "        visited_per_solution = np.multiply(x_bool, self.city_pops)\n",
    "\n",
    "        # Objective 1: Maximize total population visited \n",
    "        total_pop_visited = visited_per_solution.sum(axis=1)\n",
    "\n",
    "        # Objective 2: Maximize the total number of cities visited \n",
    "        total_cities_visited = x_bool.sum(axis=1)\n",
    "\n",
    "        # Objective 3: Minimize the total number of events that are overstaffed\n",
    "        overstaffed_events = np.logical_and(visited_per_solution < self.min_atp, visited_per_solution != 0)\n",
    "        total_overstaffed_events = overstaffed_events.sum(axis=1)\n",
    "\n",
    "        # Wrap up our objectives all nice and pretty\n",
    "        out[\"F\"] = np.column_stack([\n",
    "            -total_pop_visited,              # max\n",
    "            -total_cities_visited,           # max\n",
    "            total_overstaffed_events])       # min\n",
    "\n",
    "        # Constrains: Total cities visited\n",
    "        out[\"G\"] = total_cities_visited < self.max_city       \n",
    "\n",
    "\n",
    "\n",
    "\n",
    "# atp = attendees per site \n",
    "# (this is just going off of raw pop, though normally we'd want to estimate the total \n",
    "# number of visitors per capital)\n",
    "min_atp = 1000\n",
    "\n",
    "home = np.array([50,50])\n",
    "prob = clinicOptimization(cities, 10, populations, min_atp, home)\n",
    "\n",
    "ref_dirs = get_reference_directions(\"das-dennis\", 3, n_partitions=12)\n",
    "\n",
    "algorithm = NSGA3(pop_size=200,\n",
    "                  ref_dirs=ref_dirs)\n",
    "\n",
    "res = minimize(prob,\n",
    "               algorithm,\n",
    "               ('n_gen', 100),\n",
    "               verbose=False)\n",
    "\n",
    "display(res.X < 0.5)\n",
    "display(res.F)\n",
    "\n",
    "\n",
    "\n"
   ]
  },
  {
   "cell_type": "code",
   "execution_count": 6,
   "id": "fe4a62de",
   "metadata": {},
   "outputs": [
    {
     "data": {
      "application/vnd.microsoft.datawrangler.viewer.v0+json": {
       "columns": [
        {
         "name": "index",
         "rawType": "int64",
         "type": "integer"
        },
        {
         "name": "Total Population Visited",
         "rawType": "float64",
         "type": "float"
        },
        {
         "name": "Total Cities visited",
         "rawType": "float64",
         "type": "float"
        },
        {
         "name": "Number of over staffed events",
         "rawType": "float64",
         "type": "float"
        }
       ],
       "conversionMethod": "pd.DataFrame",
       "ref": "721e35e5-dd76-44e7-b8b4-1a0ca6f33e9a",
       "rows": [
        [
         "0",
         "186100.0",
         "16.0",
         "2.0"
        ],
        [
         "1",
         "187400.0",
         "19.0",
         "5.0"
        ],
        [
         "2",
         "185200.0",
         "15.0",
         "1.0"
        ],
        [
         "3",
         "186600.0",
         "17.0",
         "3.0"
        ],
        [
         "4",
         "187000.0",
         "18.0",
         "4.0"
        ],
        [
         "5",
         "187500.0",
         "20.0",
         "6.0"
        ],
        [
         "6",
         "184300.0",
         "14.0",
         "0.0"
        ]
       ],
       "shape": {
        "columns": 3,
        "rows": 7
       }
      },
      "text/html": [
       "<div>\n",
       "<style scoped>\n",
       "    .dataframe tbody tr th:only-of-type {\n",
       "        vertical-align: middle;\n",
       "    }\n",
       "\n",
       "    .dataframe tbody tr th {\n",
       "        vertical-align: top;\n",
       "    }\n",
       "\n",
       "    .dataframe thead th {\n",
       "        text-align: right;\n",
       "    }\n",
       "</style>\n",
       "<table border=\"1\" class=\"dataframe\">\n",
       "  <thead>\n",
       "    <tr style=\"text-align: right;\">\n",
       "      <th></th>\n",
       "      <th>Total Population Visited</th>\n",
       "      <th>Total Cities visited</th>\n",
       "      <th>Number of over staffed events</th>\n",
       "    </tr>\n",
       "  </thead>\n",
       "  <tbody>\n",
       "    <tr>\n",
       "      <th>0</th>\n",
       "      <td>186100.0</td>\n",
       "      <td>16.0</td>\n",
       "      <td>2.0</td>\n",
       "    </tr>\n",
       "    <tr>\n",
       "      <th>1</th>\n",
       "      <td>187400.0</td>\n",
       "      <td>19.0</td>\n",
       "      <td>5.0</td>\n",
       "    </tr>\n",
       "    <tr>\n",
       "      <th>2</th>\n",
       "      <td>185200.0</td>\n",
       "      <td>15.0</td>\n",
       "      <td>1.0</td>\n",
       "    </tr>\n",
       "    <tr>\n",
       "      <th>3</th>\n",
       "      <td>186600.0</td>\n",
       "      <td>17.0</td>\n",
       "      <td>3.0</td>\n",
       "    </tr>\n",
       "    <tr>\n",
       "      <th>4</th>\n",
       "      <td>187000.0</td>\n",
       "      <td>18.0</td>\n",
       "      <td>4.0</td>\n",
       "    </tr>\n",
       "    <tr>\n",
       "      <th>5</th>\n",
       "      <td>187500.0</td>\n",
       "      <td>20.0</td>\n",
       "      <td>6.0</td>\n",
       "    </tr>\n",
       "    <tr>\n",
       "      <th>6</th>\n",
       "      <td>184300.0</td>\n",
       "      <td>14.0</td>\n",
       "      <td>0.0</td>\n",
       "    </tr>\n",
       "  </tbody>\n",
       "</table>\n",
       "</div>"
      ],
      "text/plain": [
       "   Total Population Visited  Total Cities visited  \\\n",
       "0                  186100.0                  16.0   \n",
       "1                  187400.0                  19.0   \n",
       "2                  185200.0                  15.0   \n",
       "3                  186600.0                  17.0   \n",
       "4                  187000.0                  18.0   \n",
       "5                  187500.0                  20.0   \n",
       "6                  184300.0                  14.0   \n",
       "\n",
       "   Number of over staffed events  \n",
       "0                            2.0  \n",
       "1                            5.0  \n",
       "2                            1.0  \n",
       "3                            3.0  \n",
       "4                            4.0  \n",
       "5                            6.0  \n",
       "6                            0.0  "
      ]
     },
     "execution_count": 6,
     "metadata": {},
     "output_type": "execute_result"
    }
   ],
   "source": [
    "import pandas as pd\n",
    "\n",
    "results = pd.DataFrame(res.F, \n",
    "                       columns=[\"Total Population Visited\", \"Total Cities visited\", \"Number of over staffed events\"])\n",
    "results.loc[:,\"Total Population Visited\"] = np.abs(results.loc[:,\"Total Population Visited\"])\n",
    "results.loc[:,\"Total Cities visited\"] = np.abs(results.loc[:,\"Total Cities visited\"])\n",
    "\n",
    "results"
   ]
  },
  {
   "cell_type": "code",
   "execution_count": 7,
   "id": "6599560b",
   "metadata": {},
   "outputs": [],
   "source": [
    "from mpl_toolkits.mplot3d import Axes3D\n",
    "\n",
    "x = results.loc[:,\"Total Population Visited\"]\n",
    "y = results.loc[:,\"Total Cities visited\"]\n",
    "z = results.loc[:,\"Number of over staffed events\"]\n",
    "\n",
    "fig = plt.figure(figsize=(6, 6))\n",
    "ax = fig.add_subplot(111, projection='3d')\n",
    "ax.scatter(x, y, z,\n",
    "           linewidths=1, alpha=.7,\n",
    "           edgecolor='k',\n",
    "           s = 200,\n",
    "           c=z)\n",
    "\n",
    "ax.set_xlabel(\"Total population visited\")\n",
    "ax.set_ylabel(\"Total cities visited\")\n",
    "ax.set_zlabel(\"Number of overstaffed events\")\n",
    "\n",
    "plt.show()"
   ]
  },
  {
   "cell_type": "code",
   "execution_count": null,
   "id": "3df859b5",
   "metadata": {},
   "outputs": [],
   "source": [
    "#import numpy as np\n",
    "#from mpl_toolkits.mplot3d import Axes3D\n",
    "#\n",
    "## Generate random data for the scatter plot\n",
    "#num_points = 100\n",
    "#x = results.loc[:,\"Total Population Visited\"]\n",
    "#y = results.loc[:,\"Total Cities visited\"]\n",
    "#z = results.loc[:,\"Number of over staffed events\"]\n",
    "#\n",
    "## Create a 2x2 figure\n",
    "#fig = plt.figure(figsize=(10, 10))\n",
    "#\n",
    "## Define the viewing angles for each subplot\n",
    "#view_angles = [(30, 30), (30, -30), (30, -60), (30, -180)]\n",
    "#\n",
    "## Create subplots\n",
    "#for i in range(2):\n",
    "#    for j in range(2):\n",
    "#        ax = fig.add_subplot(2, 2, i * 2 + j + 1, projection='3d')\n",
    "#        ax.scatter(x, y, z, c = z)\n",
    "#        ax.set_title(f'View angle: {view_angles[i * 2 + j]}')\n",
    "#        ax.view_init(elev=view_angles[i * 2 + j][0], azim=view_angles[i * 2 + j][1])\n",
    "#\n",
    "## Adjust layout\n",
    "#plt.tight_layout()\n",
    "#plt.show()"
   ]
  }
 ],
 "metadata": {
  "kernelspec": {
   "display_name": "clinicOpt",
   "language": "python",
   "name": "python3"
  },
  "language_info": {
   "codemirror_mode": {
    "name": "ipython",
    "version": 3
   },
   "file_extension": ".py",
   "mimetype": "text/x-python",
   "name": "python",
   "nbconvert_exporter": "python",
   "pygments_lexer": "ipython3",
   "version": "3.9.21"
  }
 },
 "nbformat": 4,
 "nbformat_minor": 5
}
