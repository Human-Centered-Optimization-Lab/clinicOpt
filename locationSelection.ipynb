{
 "cells": [
  {
   "cell_type": "markdown",
   "id": "7c558aba",
   "metadata": {},
   "source": [
    "# Location selection demo"
   ]
  },
  {
   "cell_type": "code",
   "execution_count": 8,
   "id": "0412dc20",
   "metadata": {},
   "outputs": [],
   "source": [
    "%matplotlib qt\n",
    "\n",
    "import numpy as np\n",
    "import random\n",
    "import matplotlib.pyplot as plt\n",
    "import pandas as pd\n",
    "\n",
    "plt.ion()\n",
    "\n",
    "n = 20\n"
   ]
  },
  {
   "cell_type": "markdown",
   "id": "4337b7a7",
   "metadata": {},
   "source": [
    "## Helper functions"
   ]
  },
  {
   "cell_type": "code",
   "execution_count": 73,
   "id": "8af741d4",
   "metadata": {},
   "outputs": [],
   "source": [
    "\n",
    "def generate_cities(n, seed):\n",
    "    random.seed(seed)\n",
    "    # Generate n cities with random coordinates\n",
    "    cities = [(random.uniform(0, 100), random.uniform(0, 100)) for _ in range(n)]\n",
    "    return cities\n",
    "\n",
    "def calculate_distance(city1, city2):\n",
    "    # Calculate Euclidean distance between two cities\n",
    "    return np.sqrt((city1[0] - city2[0]) ** 2 + (city1[1] - city2[1]) ** 2)\n",
    "\n",
    "def create_popuations(n):\n",
    "    populations = np.array([(random.triangular(-1, 1)**2)*1000 for _ in range(n)]).round() * 100\n",
    "    return populations\n",
    "\n",
    "\n",
    "def create_adjacency_matrix(cities):\n",
    "    n = len(cities)\n",
    "    adjacency_matrix = np.zeros((n, n))\n",
    "\n",
    "    for i in range(n):\n",
    "        for j in range(n):\n",
    "            if i != j:\n",
    "                adjacency_matrix[i][j] = calculate_distance(cities[i], cities[j])\n",
    "    \n",
    "    return adjacency_matrix\n",
    "\n",
    "def plot_cities(cities, marker_downscale_factor):\n",
    "    # Plot the cities on a Cartesian coordinate system\n",
    "    city_coords = cities.loc[:,[\"lat\", \"long\"]].values\n",
    "    x_coords, y_coords = zip(*city_coords)\n",
    "\n",
    "    plt.figure(figsize=(8, 8))\n",
    "    plt.scatter(x_coords, y_coords, color='blue', s=cities.loc[:,\"pop\"]/marker_downscale_factor)\n",
    "    \n",
    "    for idx, city in cities.iterrows():\n",
    "        plt.annotate(city[\"city\"], (city[\"lat\"], city[\"long\"]), textcoords=\"offset points\", xytext=(0,10), ha='center')\n",
    "\n",
    "\n",
    "    plt.title('Cities on Cartesian Coordinate System')\n",
    "    plt.xlabel('X Coordinate')\n",
    "    plt.ylabel('Y Coordinate')\n",
    "    plt.xlim(min(x_coords), max(x_coords))\n",
    "    plt.ylim(min(y_coords), max(y_coords))\n",
    "    plt.grid()\n",
    "    plt.show()\n"
   ]
  },
  {
   "cell_type": "markdown",
   "id": "83996bc8",
   "metadata": {},
   "source": [
    "## Setting up data"
   ]
  },
  {
   "cell_type": "code",
   "execution_count": 74,
   "id": "678bec3f",
   "metadata": {},
   "outputs": [
    {
     "name": "stdout",
     "output_type": "stream",
     "text": [
      "Cities (x, y coordinates):\n",
      "Ada, 40.768056, -83.825278 \n",
      "Lima, 40.746389, -84.123333 \n",
      "Kenton, 40.646667, -83.6225 \n",
      "Delphos, 40.861111, -84.35 \n",
      "Bluffton, 40.889444, -83.879167 \n",
      "Spencerville, 41.099722, -82.125556 \n",
      "Elida, 40.786667, -84.198889 \n",
      "Forest, 40.805, -83.511667 \n",
      "Alger, 40.709722, -83.844167 \n",
      "Dunkirk, 40.788056, -83.642778 \n",
      "MountVictory, 40.533611, -83.521111 \n",
      "Cairo, 40.830833, -84.084444 \n",
      "St.Marys, 40.548889, -84.373333 \n"
     ]
    },
    {
     "data": {
      "text/plain": [
       "array([ 5334, 35579,  7947,  7117,  3967,  2198,  1923,  1350,   837,\n",
       "         774,   601,   517,  8397])"
      ]
     },
     "metadata": {},
     "output_type": "display_data"
    }
   ],
   "source": [
    "\n",
    "cities = pd.read_csv(\"cities.csv\")\n",
    "\n",
    "city_coords = cities.loc[:, [\"lat\",\"long\"]].values\n",
    "\n",
    "adjacency_matrix = create_adjacency_matrix(city_coords)\n",
    "\n",
    "populations =  cities.loc[:,\"pop\"].values\n",
    "\n",
    "print(\"Cities (x, y coordinates):\")\n",
    "for index, city in cities.iterrows():\n",
    "    city_name = city[\"city\"]\n",
    "    lat  = city[\"lat\"]\n",
    "    long  = city[\"long\"]\n",
    "    print(f\"{city_name}, {lat}, {long} \")\n",
    "\n",
    "display(populations)\n",
    "\n",
    "marker_upscale_factor = 100\n",
    "\n",
    "plot_cities(cities, marker_downscale_factor)\n",
    "#plot_cities(cities)\n"
   ]
  },
  {
   "cell_type": "markdown",
   "id": "d0b0f580",
   "metadata": {},
   "source": [
    "## Representation of problem"
   ]
  },
  {
   "cell_type": "code",
   "execution_count": 4,
   "id": "8f33c3a1",
   "metadata": {},
   "outputs": [
    {
     "data": {
      "text/plain": [
       "array([[ True,  True,  True,  True,  True,  True, False,  True,  True,\n",
       "        False,  True,  True,  True,  True,  True, False,  True,  True,\n",
       "         True,  True],\n",
       "       [ True,  True,  True,  True,  True,  True, False,  True,  True,\n",
       "        False,  True, False,  True,  True,  True, False,  True,  True,\n",
       "         True, False],\n",
       "       [ True,  True,  True,  True,  True,  True, False,  True,  True,\n",
       "        False,  True, False,  True,  True,  True, False,  True, False,\n",
       "         True, False],\n",
       "       [ True,  True,  True,  True,  True,  True, False,  True,  True,\n",
       "         True,  True,  True,  True,  True,  True,  True,  True,  True,\n",
       "         True,  True],\n",
       "       [ True,  True,  True,  True,  True,  True, False,  True,  True,\n",
       "        False,  True,  True,  True,  True,  True, False,  True,  True,\n",
       "         True, False],\n",
       "       [ True,  True,  True,  True,  True,  True,  True,  True,  True,\n",
       "         True,  True,  True,  True,  True,  True,  True,  True,  True,\n",
       "         True,  True],\n",
       "       [ True,  True,  True,  True,  True,  True, False,  True,  True,\n",
       "        False,  True,  True,  True,  True,  True,  True,  True,  True,\n",
       "         True,  True]])"
      ]
     },
     "metadata": {},
     "output_type": "display_data"
    },
    {
     "data": {
      "text/plain": [
       "array([[-1.866e+05, -1.700e+01,  3.000e+00],\n",
       "       [-1.852e+05, -1.500e+01,  1.000e+00],\n",
       "       [-1.843e+05, -1.400e+01,  0.000e+00],\n",
       "       [-1.874e+05, -1.900e+01,  5.000e+00],\n",
       "       [-1.861e+05, -1.600e+01,  2.000e+00],\n",
       "       [-1.875e+05, -2.000e+01,  6.000e+00],\n",
       "       [-1.870e+05, -1.800e+01,  4.000e+00]])"
      ]
     },
     "metadata": {},
     "output_type": "display_data"
    }
   ],
   "source": [
    "from pymoo.core.problem import Problem\n",
    "from pymoo.util.ref_dirs import get_reference_directions\n",
    "from pymoo.optimize import minimize\n",
    "from pymoo.algorithms.moo.nsga3 import NSGA3\n",
    "\n",
    "class clinicOptimization(Problem):\n",
    "\n",
    "    def __init__(self, cities, max_city, city_pops, min_atp, home):\n",
    "        city_n = len(cities)\n",
    "        super().__init__(n_var=city_n, n_obj=3, n_ieq_constr=1, xl=0, xu=1, vtype=bool)\n",
    "        self.max_city = max_city\n",
    "        self.city_pops = city_pops\n",
    "        self.min_atp = min_atp\n",
    "        self.home = home\n",
    "\n",
    "\n",
    "    def _evaluate(self, x, out, *args, **kwargs):\n",
    "        x_bool = x < 0.5\n",
    "        np.multiply(x_bool, self.city_pops)\n",
    "\n",
    "        visited_per_solution = np.multiply(x_bool, self.city_pops)\n",
    "\n",
    "        # Objective 1: Maximize total population visited \n",
    "        total_pop_visited = visited_per_solution.sum(axis=1)\n",
    "\n",
    "        # Objective 2: Maximize the total number of cities visited \n",
    "        total_cities_visited = x_bool.sum(axis=1)\n",
    "\n",
    "        # Objective 3: Minimize the total number of events that are overstaffed\n",
    "        overstaffed_events = np.logical_and(visited_per_solution < self.min_atp, visited_per_solution != 0)\n",
    "        total_overstaffed_events = overstaffed_events.sum(axis=1)\n",
    "\n",
    "        # Wrap up our objectives all nice and pretty\n",
    "        out[\"F\"] = np.column_stack([\n",
    "            -total_pop_visited,              # max\n",
    "            -total_cities_visited,           # max\n",
    "            total_overstaffed_events])       # min\n",
    "\n",
    "        # Constrains: Total cities visited\n",
    "        out[\"G\"] = total_cities_visited < self.max_city       \n",
    "\n",
    "\n",
    "\n",
    "\n",
    "# atp = attendees per site \n",
    "# (this is just going off of raw pop, though normally we'd want to estimate the total \n",
    "# number of visitors per capital)\n",
    "min_atp = 1000\n",
    "\n",
    "home = np.array([50,50])\n",
    "prob = clinicOptimization(cities, 10, populations, min_atp, home)\n",
    "\n",
    "ref_dirs = get_reference_directions(\"das-dennis\", 3, n_partitions=12)\n",
    "\n",
    "algorithm = NSGA3(pop_size=200,\n",
    "                  ref_dirs=ref_dirs)\n",
    "\n",
    "res = minimize(prob,\n",
    "               algorithm,\n",
    "               ('n_gen', 100),\n",
    "               verbose=False)\n",
    "\n",
    "display(res.X < 0.5)\n",
    "display(res.F)\n",
    "\n",
    "\n",
    "\n"
   ]
  },
  {
   "cell_type": "code",
   "execution_count": 5,
   "id": "fe4a62de",
   "metadata": {},
   "outputs": [
    {
     "data": {
      "application/vnd.microsoft.datawrangler.viewer.v0+json": {
       "columns": [
        {
         "name": "index",
         "rawType": "int64",
         "type": "integer"
        },
        {
         "name": "Total Population Visited",
         "rawType": "float64",
         "type": "float"
        },
        {
         "name": "Total Cities visited",
         "rawType": "float64",
         "type": "float"
        },
        {
         "name": "Number of over staffed events",
         "rawType": "float64",
         "type": "float"
        }
       ],
       "conversionMethod": "pd.DataFrame",
       "ref": "4c89b027-7a03-48a4-b27c-a27c5a398a95",
       "rows": [
        [
         "0",
         "186600.0",
         "17.0",
         "3.0"
        ],
        [
         "1",
         "185200.0",
         "15.0",
         "1.0"
        ],
        [
         "2",
         "184300.0",
         "14.0",
         "0.0"
        ],
        [
         "3",
         "187400.0",
         "19.0",
         "5.0"
        ],
        [
         "4",
         "186100.0",
         "16.0",
         "2.0"
        ],
        [
         "5",
         "187500.0",
         "20.0",
         "6.0"
        ],
        [
         "6",
         "187000.0",
         "18.0",
         "4.0"
        ]
       ],
       "shape": {
        "columns": 3,
        "rows": 7
       }
      },
      "text/html": [
       "<div>\n",
       "<style scoped>\n",
       "    .dataframe tbody tr th:only-of-type {\n",
       "        vertical-align: middle;\n",
       "    }\n",
       "\n",
       "    .dataframe tbody tr th {\n",
       "        vertical-align: top;\n",
       "    }\n",
       "\n",
       "    .dataframe thead th {\n",
       "        text-align: right;\n",
       "    }\n",
       "</style>\n",
       "<table border=\"1\" class=\"dataframe\">\n",
       "  <thead>\n",
       "    <tr style=\"text-align: right;\">\n",
       "      <th></th>\n",
       "      <th>Total Population Visited</th>\n",
       "      <th>Total Cities visited</th>\n",
       "      <th>Number of over staffed events</th>\n",
       "    </tr>\n",
       "  </thead>\n",
       "  <tbody>\n",
       "    <tr>\n",
       "      <th>0</th>\n",
       "      <td>186600.0</td>\n",
       "      <td>17.0</td>\n",
       "      <td>3.0</td>\n",
       "    </tr>\n",
       "    <tr>\n",
       "      <th>1</th>\n",
       "      <td>185200.0</td>\n",
       "      <td>15.0</td>\n",
       "      <td>1.0</td>\n",
       "    </tr>\n",
       "    <tr>\n",
       "      <th>2</th>\n",
       "      <td>184300.0</td>\n",
       "      <td>14.0</td>\n",
       "      <td>0.0</td>\n",
       "    </tr>\n",
       "    <tr>\n",
       "      <th>3</th>\n",
       "      <td>187400.0</td>\n",
       "      <td>19.0</td>\n",
       "      <td>5.0</td>\n",
       "    </tr>\n",
       "    <tr>\n",
       "      <th>4</th>\n",
       "      <td>186100.0</td>\n",
       "      <td>16.0</td>\n",
       "      <td>2.0</td>\n",
       "    </tr>\n",
       "    <tr>\n",
       "      <th>5</th>\n",
       "      <td>187500.0</td>\n",
       "      <td>20.0</td>\n",
       "      <td>6.0</td>\n",
       "    </tr>\n",
       "    <tr>\n",
       "      <th>6</th>\n",
       "      <td>187000.0</td>\n",
       "      <td>18.0</td>\n",
       "      <td>4.0</td>\n",
       "    </tr>\n",
       "  </tbody>\n",
       "</table>\n",
       "</div>"
      ],
      "text/plain": [
       "   Total Population Visited  Total Cities visited  \\\n",
       "0                  186600.0                  17.0   \n",
       "1                  185200.0                  15.0   \n",
       "2                  184300.0                  14.0   \n",
       "3                  187400.0                  19.0   \n",
       "4                  186100.0                  16.0   \n",
       "5                  187500.0                  20.0   \n",
       "6                  187000.0                  18.0   \n",
       "\n",
       "   Number of over staffed events  \n",
       "0                            3.0  \n",
       "1                            1.0  \n",
       "2                            0.0  \n",
       "3                            5.0  \n",
       "4                            2.0  \n",
       "5                            6.0  \n",
       "6                            4.0  "
      ]
     },
     "execution_count": 5,
     "metadata": {},
     "output_type": "execute_result"
    }
   ],
   "source": [
    "import pandas as pd\n",
    "\n",
    "results = pd.DataFrame(res.F, \n",
    "                       columns=[\"Total Population Visited\", \"Total Cities visited\", \"Number of over staffed events\"])\n",
    "results.loc[:,\"Total Population Visited\"] = np.abs(results.loc[:,\"Total Population Visited\"])\n",
    "results.loc[:,\"Total Cities visited\"] = np.abs(results.loc[:,\"Total Cities visited\"])\n",
    "\n",
    "results"
   ]
  },
  {
   "cell_type": "code",
   "execution_count": 6,
   "id": "6599560b",
   "metadata": {},
   "outputs": [],
   "source": [
    "from mpl_toolkits.mplot3d import Axes3D\n",
    "\n",
    "x = results.loc[:,\"Total Population Visited\"]\n",
    "y = results.loc[:,\"Total Cities visited\"]\n",
    "z = results.loc[:,\"Number of over staffed events\"]\n",
    "\n",
    "fig = plt.figure(figsize=(6, 6))\n",
    "ax = fig.add_subplot(111, projection='3d')\n",
    "ax.scatter(x, y, z,\n",
    "           linewidths=1, alpha=.7,\n",
    "           edgecolor='k',\n",
    "           s = 200,\n",
    "           c=z)\n",
    "\n",
    "ax.set_xlabel(\"Total population visited\")\n",
    "ax.set_ylabel(\"Total cities visited\")\n",
    "ax.set_zlabel(\"Number of overstaffed events\")\n",
    "\n",
    "plt.show()"
   ]
  },
  {
   "cell_type": "code",
   "execution_count": 7,
   "id": "3df859b5",
   "metadata": {},
   "outputs": [],
   "source": [
    "#import numpy as np\n",
    "#from mpl_toolkits.mplot3d import Axes3D\n",
    "#\n",
    "## Generate random data for the scatter plot\n",
    "#num_points = 100\n",
    "#x = results.loc[:,\"Total Population Visited\"]\n",
    "#y = results.loc[:,\"Total Cities visited\"]\n",
    "#z = results.loc[:,\"Number of over staffed events\"]\n",
    "#\n",
    "## Create a 2x2 figure\n",
    "#fig = plt.figure(figsize=(10, 10))\n",
    "#\n",
    "## Define the viewing angles for each subplot\n",
    "#view_angles = [(30, 30), (30, -30), (30, -60), (30, -180)]\n",
    "#\n",
    "## Create subplots\n",
    "#for i in range(2):\n",
    "#    for j in range(2):\n",
    "#        ax = fig.add_subplot(2, 2, i * 2 + j + 1, projection='3d')\n",
    "#        ax.scatter(x, y, z, c = z)\n",
    "#        ax.set_title(f'View angle: {view_angles[i * 2 + j]}')\n",
    "#        ax.view_init(elev=view_angles[i * 2 + j][0], azim=view_angles[i * 2 + j][1])\n",
    "#\n",
    "## Adjust layout\n",
    "#plt.tight_layout()\n",
    "#plt.show()"
   ]
  }
 ],
 "metadata": {
  "kernelspec": {
   "display_name": "clinicOpt",
   "language": "python",
   "name": "python3"
  },
  "language_info": {
   "codemirror_mode": {
    "name": "ipython",
    "version": 3
   },
   "file_extension": ".py",
   "mimetype": "text/x-python",
   "name": "python",
   "nbconvert_exporter": "python",
   "pygments_lexer": "ipython3",
   "version": "3.9.21"
  }
 },
 "nbformat": 4,
 "nbformat_minor": 5
}
